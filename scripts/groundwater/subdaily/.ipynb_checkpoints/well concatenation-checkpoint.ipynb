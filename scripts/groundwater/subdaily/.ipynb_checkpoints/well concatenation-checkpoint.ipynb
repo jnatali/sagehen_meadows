{
 "cells": [
  {
   "cell_type": "code",
   "execution_count": 1,
   "metadata": {},
   "outputs": [],
   "source": [
    "import pandas as pd\n",
    "import numpy as np\n",
    "import os\n",
    "from os import chdir\n",
    "from glob import glob"
   ]
  },
  {
   "cell_type": "code",
   "execution_count": 2,
   "metadata": {},
   "outputs": [],
   "source": [
    "#combine EEF-1\n",
    "well_file_path = './EEF-1/'\n",
    "chdir(well_file_path)\n",
    "list_of_files = [file for file in glob(\"*\")]"
   ]
  },
  {
   "cell_type": "code",
   "execution_count": 3,
   "metadata": {},
   "outputs": [],
   "source": [
    "def produceOneDataframe(list_of_files):\n",
    "   # Consolidate all CSV files into one object\n",
    "   all_well_data = pd.concat([pd.read_csv(file, encoding='ISO-8859-1') for file in list_of_files])\n",
    "   return all_well_data\n",
    "    \n",
    "EEF_1 = produceOneDataframe(list_of_files)\n",
    "\n",
    "#creating and exporting the new file into a csv with all of the barometric data in the correct units\n",
    "\n",
    "EEF_1.to_csv('../wells/EEF-1.csv', encoding='ISO-8859-1')"
   ]
  },
  {
   "cell_type": "code",
   "execution_count": 4,
   "metadata": {},
   "outputs": [],
   "source": [
    "#combine EER-1\n",
    "well_file_path = '../EER-1/'\n",
    "chdir(well_file_path)\n",
    "list_of_files = [file for file in glob(\"*\")]"
   ]
  },
  {
   "cell_type": "code",
   "execution_count": 5,
   "metadata": {},
   "outputs": [],
   "source": [
    "EER_1 = produceOneDataframe(list_of_files)\n",
    "\n",
    "#creating and exporting the new file into a csv with all of the barometric data in the correct units\n",
    "\n",
    "EER_1.to_csv('../wells/EER-1.csv', encoding='ISO-8859-1')"
   ]
  },
  {
   "cell_type": "code",
   "execution_count": 6,
   "metadata": {},
   "outputs": [],
   "source": [
    "#combine EHR-1\n",
    "well_file_path = '../EHR-1/'\n",
    "chdir(well_file_path)\n",
    "list_of_files = [file for file in glob(\"*\")]"
   ]
  },
  {
   "cell_type": "code",
   "execution_count": 7,
   "metadata": {},
   "outputs": [],
   "source": [
    "EHR_1 = produceOneDataframe(list_of_files)\n",
    "\n",
    "#creating and exporting the new file into a csv with all of the barometric data in the correct units\n",
    "\n",
    "EHR_1.to_csv('../wells/EHR-1.csv', encoding='ISO-8859-1')"
   ]
  },
  {
   "cell_type": "code",
   "execution_count": 8,
   "metadata": {},
   "outputs": [],
   "source": [
    "#combine EHT-XA5S\n",
    "well_file_path = '../EHT-XA5S/'\n",
    "chdir(well_file_path)\n",
    "list_of_files = [file for file in glob(\"*\")]"
   ]
  },
  {
   "cell_type": "code",
   "execution_count": 9,
   "metadata": {},
   "outputs": [],
   "source": [
    "EHT_XA5S = produceOneDataframe(list_of_files)\n",
    "\n",
    "#creating and exporting the new file into a csv with all of the barometric data in the correct units\n",
    "\n",
    "EHT_XA5S.to_csv('../wells/EHT-XA5S-1.csv', encoding='ISO-8859-1')"
   ]
  },
  {
   "cell_type": "code",
   "execution_count": 10,
   "metadata": {},
   "outputs": [],
   "source": [
    "#combine EWR-1\n",
    "well_file_path = '../EWR-1/'\n",
    "chdir(well_file_path)\n",
    "list_of_files = [file for file in glob(\"*\")]"
   ]
  },
  {
   "cell_type": "code",
   "execution_count": 11,
   "metadata": {},
   "outputs": [],
   "source": [
    "EWR_1 = produceOneDataframe(list_of_files)\n",
    "\n",
    "#creating and exporting the new file into a csv with all of the barometric data in the correct units\n",
    "\n",
    "EWR_1.to_csv('../wells/EWR-1.csv', encoding='ISO-8859-1')"
   ]
  },
  {
   "cell_type": "code",
   "execution_count": 12,
   "metadata": {},
   "outputs": [],
   "source": [
    "#combine EWT-1\n",
    "well_file_path = '../EWT-1/'\n",
    "chdir(well_file_path)\n",
    "list_of_files = [file for file in glob(\"*\")]"
   ]
  },
  {
   "cell_type": "code",
   "execution_count": 13,
   "metadata": {},
   "outputs": [],
   "source": [
    "EWT_1 = produceOneDataframe(list_of_files)\n",
    "\n",
    "#creating and exporting the new file into a csv with all of the barometric data in the correct units\n",
    "\n",
    "EWT_1.to_csv('../wells/EWT-1.csv', encoding='ISO-8859-1')"
   ]
  },
  {
   "cell_type": "code",
   "execution_count": 14,
   "metadata": {},
   "outputs": [],
   "source": [
    "#combine KEF-1\n",
    "well_file_path = '../KEF-1/'\n",
    "chdir(well_file_path)\n",
    "list_of_files = [file for file in glob(\"*\")]"
   ]
  },
  {
   "cell_type": "code",
   "execution_count": 15,
   "metadata": {},
   "outputs": [],
   "source": [
    "KEF_1 = produceOneDataframe(list_of_files)\n",
    "\n",
    "#creating and exporting the new file into a csv with all of the barometric data in the correct units\n",
    "\n",
    "KEF_1.to_csv('../wells/KEF-1.csv', encoding='ISO-8859-1')"
   ]
  },
  {
   "cell_type": "code",
   "execution_count": 16,
   "metadata": {},
   "outputs": [],
   "source": [
    "#combine KER-1\n",
    "well_file_path = '../KER-1/'\n",
    "chdir(well_file_path)\n",
    "list_of_files = [file for file in glob(\"*\")]"
   ]
  },
  {
   "cell_type": "code",
   "execution_count": 17,
   "metadata": {},
   "outputs": [],
   "source": [
    "KER_1 = produceOneDataframe(list_of_files)\n",
    "\n",
    "#creating and exporting the new file into a csv with all of the barometric data in the correct units\n",
    "\n",
    "KER_1.to_csv('../wells/KER-1.csv', encoding='ISO-8859-1')"
   ]
  },
  {
   "cell_type": "code",
   "execution_count": 18,
   "metadata": {},
   "outputs": [],
   "source": [
    "#combine KFR-XE1S\n",
    "well_file_path = '../KFR-XE1S/'\n",
    "chdir(well_file_path)\n",
    "list_of_files = [file for file in glob(\"*\")]"
   ]
  },
  {
   "cell_type": "code",
   "execution_count": 19,
   "metadata": {},
   "outputs": [],
   "source": [
    "KFR_XE1S = produceOneDataframe(list_of_files)\n",
    "\n",
    "#creating and exporting the new file into a csv with all of the barometric data in the correct units\n",
    "\n",
    "KFR_XE1S.to_csv('../wells/KFR-XE1S.csv', encoding='ISO-8859-1')"
   ]
  },
  {
   "cell_type": "code",
   "execution_count": 20,
   "metadata": {},
   "outputs": [],
   "source": [
    "#combine KHF-1\n",
    "well_file_path = '../KHF-1/'\n",
    "chdir(well_file_path)\n",
    "list_of_files = [file for file in glob(\"*\")]"
   ]
  },
  {
   "cell_type": "code",
   "execution_count": 21,
   "metadata": {},
   "outputs": [],
   "source": [
    "KHF_1 = produceOneDataframe(list_of_files)\n",
    "\n",
    "#creating and exporting the new file into a csv with all of the barometric data in the correct units\n",
    "\n",
    "KHF_1.to_csv('../wells/KHF-1.csv', encoding='ISO-8859-1')"
   ]
  },
  {
   "cell_type": "code",
   "execution_count": 22,
   "metadata": {},
   "outputs": [],
   "source": [
    "#combine KHT-XE5S\n",
    "well_file_path = '../KHT-XE5S/'\n",
    "chdir(well_file_path)\n",
    "list_of_files = [file for file in glob(\"*\")]"
   ]
  },
  {
   "cell_type": "code",
   "execution_count": 23,
   "metadata": {},
   "outputs": [],
   "source": [
    "KHT_XE5S = produceOneDataframe(list_of_files)\n",
    "\n",
    "#creating and exporting the new file into a csv with all of the barometric data in the correct units\n",
    "\n",
    "KHT_XE5S.to_csv('../wells/KHT_XE5S.csv', encoding='ISO-8859-1')"
   ]
  },
  {
   "cell_type": "code",
   "execution_count": 24,
   "metadata": {},
   "outputs": [],
   "source": [
    "#combine KWF-1\n",
    "well_file_path = '../KWF-1/'\n",
    "chdir(well_file_path)\n",
    "list_of_files = [file for file in glob(\"*\")]"
   ]
  },
  {
   "cell_type": "code",
   "execution_count": 25,
   "metadata": {},
   "outputs": [],
   "source": [
    "KWF_1 = produceOneDataframe(list_of_files)\n",
    "\n",
    "#creating and exporting the new file into a csv with all of the barometric data in the correct units\n",
    "\n",
    "KWF_1.to_csv('../wells/KWF-1.csv', encoding='ISO-8859-1')"
   ]
  },
  {
   "cell_type": "code",
   "execution_count": 26,
   "metadata": {},
   "outputs": [],
   "source": [
    "#combine KWR-1\n",
    "well_file_path = '../KWR-1/'\n",
    "chdir(well_file_path)\n",
    "list_of_files = [file for file in glob(\"*\")]"
   ]
  },
  {
   "cell_type": "code",
   "execution_count": 27,
   "metadata": {},
   "outputs": [],
   "source": [
    "KWR_1 = produceOneDataframe(list_of_files)\n",
    "\n",
    "#creating and exporting the new file into a csv with all of the barometric data in the correct units\n",
    "\n",
    "KWR_1.to_csv('../wells/KWR-1.csv', encoding='ISO-8859-1')"
   ]
  },
  {
   "cell_type": "code",
   "execution_count": 28,
   "metadata": {},
   "outputs": [],
   "source": [
    "#combine KWT-1\n",
    "well_file_path = '../KWT-1/'\n",
    "chdir(well_file_path)\n",
    "list_of_files = [file for file in glob(\"*\")]"
   ]
  },
  {
   "cell_type": "code",
   "execution_count": 29,
   "metadata": {},
   "outputs": [],
   "source": [
    "KWT_1 = produceOneDataframe(list_of_files)\n",
    "\n",
    "#creating and exporting the new file into a csv with all of the barometric data in the correct units\n",
    "\n",
    "KWT_1.to_csv('../wells/KWT-1.csv', encoding='ISO-8859-1')"
   ]
  }
 ],
 "metadata": {
  "kernelspec": {
   "display_name": "Python 3",
   "language": "python",
   "name": "python3"
  },
  "language_info": {
   "codemirror_mode": {
    "name": "ipython",
    "version": 3
   },
   "file_extension": ".py",
   "mimetype": "text/x-python",
   "name": "python",
   "nbconvert_exporter": "python",
   "pygments_lexer": "ipython3",
   "version": "3.7.1"
  }
 },
 "nbformat": 4,
 "nbformat_minor": 4
}
