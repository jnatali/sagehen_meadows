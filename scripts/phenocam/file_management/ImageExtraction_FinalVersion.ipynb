{
 "cells": [
  {
   "cell_type": "code",
   "execution_count": 13,
   "metadata": {},
   "outputs": [],
   "source": [
    "from PIL import Image\n",
    "import os\n",
    "import shutil\n",
    "\n",
    "\n",
    "ROOT = '/Volumes/MeadowRAP/PhenoAnalysis/2018/sageeast1/IMG_Original'\n",
    "DESTINATION = '/Volumes/MeadowRAP/PhenoAnalysis/2018/sageeast1/IMG'\n",
    "\n",
    "filenames = os.listdir(ROOT)\n",
    "\n",
    "times = ['1145.jpg', '1200.jpg', '1230.jpg', '1300.jpg', \n",
    "         '1330.jpg', '1400.jpg', '1430.jpg', '1500.jpg',\n",
    "         '1530.jpg', '1600.jpg']\n",
    "\n",
    "for filename in filenames:\n",
    "    for time in times:\n",
    "        if filename.endswith(time):\n",
    "            fullsourcepath = os.path.join(ROOT, filename)\n",
    "            shutil.copy(fullsourcepath, DESTINATION)\n",
    "        \n",
    "        \n",
    "        \n"
   ]
  },
  {
   "cell_type": "code",
   "execution_count": null,
   "metadata": {},
   "outputs": [],
   "source": []
  }
 ],
 "metadata": {
  "kernelspec": {
   "display_name": "Python 3 (ipykernel)",
   "language": "python",
   "name": "python3"
  },
  "language_info": {
   "codemirror_mode": {
    "name": "ipython",
    "version": 3
   },
   "file_extension": ".py",
   "mimetype": "text/x-python",
   "name": "python",
   "nbconvert_exporter": "python",
   "pygments_lexer": "ipython3",
   "version": "3.9.7"
  }
 },
 "nbformat": 4,
 "nbformat_minor": 2
}
