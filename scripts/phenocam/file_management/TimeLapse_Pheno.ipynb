{
 "cells": [
  {
   "cell_type": "code",
   "execution_count": 1,
   "metadata": {},
   "outputs": [],
   "source": [
    "import matplotlib.pyplot as plt\n",
    "import numpy as np\n",
    "import glob\n",
    "\n",
    "# Change 'io' to 'qt' when working on Windows computer\n",
    "from skimage import io"
   ]
  },
  {
   "cell_type": "code",
   "execution_count": 2,
   "metadata": {},
   "outputs": [
    {
     "data": {
      "text/plain": [
       "10"
      ]
     },
     "execution_count": 2,
     "metadata": {},
     "output_type": "execute_result"
    }
   ],
   "source": [
    "folders = np.loadtxt('/Volumes/MeadowRAP/October19_foldernames.txt',dtype=str)\n",
    "len(folders)"
   ]
  },
  {
   "cell_type": "code",
   "execution_count": 3,
   "metadata": {},
   "outputs": [],
   "source": [
    "## Trying to automate this to go through all of the folders:\n",
    "%config InlineBackend.figure_format = 'retina' # not sure if I need to keep this\n",
    "%matplotlib osx\n",
    "from matplotlib.animation import FFMpegWriter\n",
    "\n",
    "for i in range(1,len(folders)): # for for len(folders) if it works\n",
    "    Photos = glob.glob('/Volumes/MeadowRAP/'+str(folders[i])+'/*.JPG')\n",
    "     \n",
    "    metadata = dict(title=str(folders[i]), artist='NonnieCoelho',comment= 'COMMENT')\n",
    "    writer = FFMpegWriter(fps=15, metadata=metadata,bitrate=200000)\n",
    "\n",
    "    fig = plt.figure(dpi=200)\n",
    "\n",
    "\n",
    "    with writer.saving(fig, str(folders[i])+'.mp4', dpi=200): # update name of this\n",
    "        for photo in Photos: # Gibbonnames is the string with file names\n",
    "            t = io.imread(photo)\n",
    "            plt.axis('off')\n",
    "            plt.imshow(t,cmap = 'gray')\n",
    "            plt.pause(0.01)\n",
    "            writer.grab_frame()   \n",
    "\n",
    "    \n"
   ]
  }
 ],
 "metadata": {
  "kernelspec": {
   "display_name": "Python 3 (ipykernel)",
   "language": "python",
   "name": "python3"
  },
  "language_info": {
   "codemirror_mode": {
    "name": "ipython",
    "version": 3
   },
   "file_extension": ".py",
   "mimetype": "text/x-python",
   "name": "python",
   "nbconvert_exporter": "python",
   "pygments_lexer": "ipython3",
   "version": "3.9.7"
  }
 },
 "nbformat": 4,
 "nbformat_minor": 2
}
