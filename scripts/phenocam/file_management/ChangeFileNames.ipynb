{
 "cells": [
  {
   "cell_type": "code",
   "execution_count": 1,
   "metadata": {},
   "outputs": [],
   "source": [
    "import matplotlib.pyplot as plt\n",
    "import numpy as np\n",
    "import glob\n",
    "from skimage import io"
   ]
  },
  {
   "cell_type": "code",
   "execution_count": 9,
   "metadata": {},
   "outputs": [
    {
     "name": "stdout",
     "output_type": "stream",
     "text": [
      "['/Volumes/USBDISK/20190621/WSCT4504.JPG']\n"
     ]
    }
   ],
   "source": [
    "filenames = glob.glob('/Volumes/USBDISK/20190621/WSCT4504.JPG')\n",
    "print(filenames)"
   ]
  },
  {
   "cell_type": "code",
   "execution_count": null,
   "metadata": {},
   "outputs": [],
   "source": [
    "MeadowName = 'SageLo1'\n",
    "Year = 2019\n",
    "\n",
    "\n",
    "for file in filenames:\n",
    "    photo = io.imread(filenames[file])\n",
    "    io.imsave = ('/Volumes/USBDISK/'+str(MeadowName)+'_'+str(Year)+'_'+str(Time).jpg',photo)\n",
    "    "
   ]
  }
 ],
 "metadata": {
  "kernelspec": {
   "display_name": "Python 3",
   "language": "python",
   "name": "python3"
  },
  "language_info": {
   "codemirror_mode": {
    "name": "ipython",
    "version": 3
   },
   "file_extension": ".py",
   "mimetype": "text/x-python",
   "name": "python",
   "nbconvert_exporter": "python",
   "pygments_lexer": "ipython3",
   "version": "3.7.3"
  }
 },
 "nbformat": 4,
 "nbformat_minor": 2
}
